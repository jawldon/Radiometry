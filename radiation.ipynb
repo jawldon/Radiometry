{
 "cells": [
  {
   "cell_type": "markdown",
   "id": "a35180db",
   "metadata": {},
   "source": [
    "Optical radiation review and calculations"
   ]
  },
  {
   "cell_type": "code",
   "execution_count": 1,
   "id": "d26417e2",
   "metadata": {},
   "outputs": [],
   "source": [
    "from sympy import *"
   ]
  },
  {
   "cell_type": "markdown",
   "id": "23eb42de",
   "metadata": {},
   "source": [
    "When dealing with blackbody radiation, the spectral radiance can be expressed with this frequently encountered form of the Planck equation:\n",
    "\n",
    "$$\\large L_{\\lambda} = \\frac{c_{1}}{\\pi n^2 \\lambda^5} \\frac{1}{e^\\frac{c_{2}}{n\\lambda T}-1} $$\n",
    "\n",
    "which has units of $\\large \\frac{W}{m^2 sr-m}$"
   ]
  },
  {
   "cell_type": "code",
   "execution_count": 2,
   "id": "a60a91eb",
   "metadata": {},
   "outputs": [],
   "source": [
    "k = 1.38*10**-23       #Boltzmann's constant [J/K]\n",
    "c = 299_792_458        #Exact speed of light [m/s]\n",
    "h = 6.626*10**-34      #Planck's constant [Js]\n",
    "c1 = 2*pi*h*c**2       #first radiation constant [Wm^2]\n",
    "c2 = (h*c)/k           #second radiation constant [m-K]\n",
    "n = 1.0028             #index of refraction for air\n",
    "\n",
    "λ = 10*10**-6          #user specified wavelength [m] \n",
    "T = 300                #user specified temperature [K]\n"
   ]
  },
  {
   "cell_type": "code",
   "execution_count": 3,
   "id": "7df55f9f",
   "metadata": {},
   "outputs": [
    {
     "data": {
      "text/latex": [
       "$\\displaystyle 9.98059810818411$"
      ],
      "text/plain": [
       "9.98059810818411"
      ]
     },
     "execution_count": 3,
     "metadata": {},
     "output_type": "execute_result"
    }
   ],
   "source": [
    "L = ((c1/((pi*n**2)*λ**5)*(1/(exp(c2/(n*λ*T))-1))))*10**-6\n",
    "L.n()"
   ]
  },
  {
   "cell_type": "markdown",
   "id": "3c87e899",
   "metadata": {},
   "source": [
    "In the cell above we multiplied the result by $10^{-6}$ to convert to  $\\large \\frac{W}{m^2 sr-\\mu m}$"
   ]
  },
  {
   "cell_type": "markdown",
   "id": "c4341957",
   "metadata": {},
   "source": [
    "Since blackbody radiation is Lambertian, if spectral radiant exitance is needed, use the following:\n",
    "\n",
    "$$\\large M_{\\lambda} = \\pi L_{\\lambda}$$"
   ]
  },
  {
   "cell_type": "code",
   "execution_count": 4,
   "id": "22d4ee52",
   "metadata": {},
   "outputs": [
    {
     "data": {
      "text/latex": [
       "$\\displaystyle 31.3549736951034$"
      ],
      "text/plain": [
       "31.3549736951034"
      ]
     },
     "execution_count": 4,
     "metadata": {},
     "output_type": "execute_result"
    }
   ],
   "source": [
    "M = pi*L.n()\n",
    "M.n()"
   ]
  },
  {
   "cell_type": "markdown",
   "id": "7604df09",
   "metadata": {},
   "source": [
    "$\\large Application:$\n",
    "\n",
    "You're out in a field at night and spot a glowing orb that's stationary and is located roughly 3 meters from your location. For some reason, instead of taking a video of it, you mount a power meter to a tripod and detect a reading of 10$\\mu W$. The detector has an active area of 3.14$mm^2$. The orb is on-axis to the detector but your detector is tilted by 30 degrees. You estimate the orb to have a diameter of 5cm. \n",
    "\n",
    "1) What is the total output power from the orb at your location?\n",
    "\n",
    "2) What is the temperature of the orb?\n",
    "\n",
    "3) What is the wavelength of maximum spectral radiant exitance?"
   ]
  },
  {
   "cell_type": "code",
   "execution_count": 6,
   "id": "3b42bd0b",
   "metadata": {},
   "outputs": [],
   "source": [
    "#define specs\n",
    "l = 3           #[m] distance from your location to the orb\n",
    "d = 0.05        #[m] diameter of orb\n",
    "Φ = 10*10**-6      #[W] radiant power measured at the detector\n",
    "A = 3.14*10**-6 #[m^2] area of the detector converted to square meters"
   ]
  },
  {
   "cell_type": "markdown",
   "id": "0dfc6915",
   "metadata": {},
   "source": [
    "Treating the orb as a point source, we apply the inverse square law of irradiance:\n",
    "$$ E = \\frac{I \\ cos(\\theta)}{l^2} $$\n",
    "\n",
    "solving for radiant intensity we have:\n",
    "$$ I = \\frac{El^2}{cos(\\theta)} $$"
   ]
  },
  {
   "cell_type": "code",
   "execution_count": 7,
   "id": "2244a275",
   "metadata": {},
   "outputs": [
    {
     "data": {
      "text/plain": [
       "3.184713375796178"
      ]
     },
     "execution_count": 7,
     "metadata": {},
     "output_type": "execute_result"
    }
   ],
   "source": [
    "#solve for irradiance, E, first\n",
    "E = Φ/A\n",
    "E    #[W/m^2]"
   ]
  },
  {
   "cell_type": "code",
   "execution_count": 8,
   "id": "942dc47c",
   "metadata": {},
   "outputs": [
    {
     "data": {
      "text/latex": [
       "$\\displaystyle 185.816213740968$"
      ],
      "text/plain": [
       "185.816213740968"
      ]
     },
     "execution_count": 8,
     "metadata": {},
     "output_type": "execute_result"
    }
   ],
   "source": [
    "#solve for radiant intensity\n",
    "I = (E*l**2)/cos(30)\n",
    "I.n()    #[W/sr]"
   ]
  },
  {
   "cell_type": "markdown",
   "id": "b07dcf31",
   "metadata": {},
   "source": [
    "The orb is a sphere. Therefore in order to obtain total radiant output power at this location, we multiply the obtained radiant intensity by the solid angle of the sphere, $4\\pi$."
   ]
  },
  {
   "cell_type": "code",
   "execution_count": 9,
   "id": "087eb9bc",
   "metadata": {},
   "outputs": [
    {
     "data": {
      "text/latex": [
       "$\\displaystyle 2335.03540802599$"
      ],
      "text/plain": [
       "2335.03540802599"
      ]
     },
     "execution_count": 9,
     "metadata": {},
     "output_type": "execute_result"
    }
   ],
   "source": [
    "Φ = I*4*pi\n",
    "Φ.n()   #total radiant power [W] at your location"
   ]
  },
  {
   "cell_type": "markdown",
   "id": "7755caa1",
   "metadata": {},
   "source": [
    "Next, to determine the temperature of the orb we must first determine the orb's radiance. We have established the orb is a blackbody radiator and thus Lambertian, therefore we can use the Lambertian approximation:\n",
    "$$I = LA_{p}$$\n",
    "\n",
    "where $A_{p}$ is the area of the source projected in the direction of the detector:\n",
    "$$A_{p} = A_{s}cos\\theta$$\n",
    "and $$A_{s} = \\pi r^2 = \\frac{\\pi d^2}{4}$$\n",
    "\n",
    "resulting in\n",
    "\n",
    "$$L = \\frac{4I}{\\pi d^2 cos(\\theta)}$$"
   ]
  },
  {
   "cell_type": "code",
   "execution_count": 10,
   "id": "bc12d66a",
   "metadata": {},
   "outputs": [
    {
     "data": {
      "text/latex": [
       "$\\displaystyle 613513.977496832$"
      ],
      "text/plain": [
       "613513.977496832"
      ]
     },
     "execution_count": 10,
     "metadata": {},
     "output_type": "execute_result"
    }
   ],
   "source": [
    "#solving for radiance we have:\n",
    "L = (4*I.n())/(pi*d**2 *cos(30))\n",
    "L.n()"
   ]
  },
  {
   "cell_type": "markdown",
   "id": "f00c85e5",
   "metadata": {},
   "source": [
    "Now to determine the orb's temperature, we apply the Stefan-Boltzmann law which is most often seen in terms of radiant exitance:\n",
    "\n",
    "$$M = \\sigma T^4$$\n",
    "\n",
    "Using the relationship between radiant exitance and radiance defined previously above we have:\n",
    "\n",
    "$$L = \\frac{\\sigma T^4}{\\pi} $$\n",
    "solving for temperature T we have:\n",
    "$$T = \\sqrt[4]{\\frac{L\\pi}{\\sigma}}$$"
   ]
  },
  {
   "cell_type": "code",
   "execution_count": 11,
   "id": "a501c12f",
   "metadata": {},
   "outputs": [
    {
     "data": {
      "text/latex": [
       "$\\displaystyle 2414.61458093719$"
      ],
      "text/plain": [
       "2414.61458093719"
      ]
     },
     "execution_count": 11,
     "metadata": {},
     "output_type": "execute_result"
    }
   ],
   "source": [
    "#solve for temperature\n",
    "σ = 5.670*10**-8  #[W/m^2-K^5-um] Stefan-Boltzmann constant\n",
    "T = real_root((L*pi)/σ, 4)\n",
    "T.n()"
   ]
  },
  {
   "cell_type": "markdown",
   "id": "5b6a1eeb",
   "metadata": {},
   "source": [
    "Lastly, to determine the wavelength of max spectral radiant exitance, we use the Wien displacement law:\n",
    "$$\\lambda_{max}T = 2897\\ \\mu m-K$$"
   ]
  },
  {
   "cell_type": "code",
   "execution_count": 12,
   "id": "49db7530",
   "metadata": {},
   "outputs": [
    {
     "data": {
      "text/latex": [
       "$\\displaystyle 1.199777398377$"
      ],
      "text/plain": [
       "1.19977739837700"
      ]
     },
     "execution_count": 12,
     "metadata": {},
     "output_type": "execute_result"
    }
   ],
   "source": [
    "λ = 2897/T\n",
    "λ.n()    #[μm]"
   ]
  },
  {
   "cell_type": "markdown",
   "id": "62b86891",
   "metadata": {},
   "source": [
    "In summary, the orb had a total output power of $2,335.03 W$, a temperature of $2,414.61K \\ (2,141.46\\ C\\ or\\ 3,886.628\\ F)$ and a wavelength of max spectral radiant exitance of $1.20\\mu m$."
   ]
  }
 ],
 "metadata": {
  "kernelspec": {
   "display_name": "Python 3 (ipykernel)",
   "language": "python",
   "name": "python3"
  },
  "language_info": {
   "codemirror_mode": {
    "name": "ipython",
    "version": 3
   },
   "file_extension": ".py",
   "mimetype": "text/x-python",
   "name": "python",
   "nbconvert_exporter": "python",
   "pygments_lexer": "ipython3",
   "version": "3.8.11"
  }
 },
 "nbformat": 4,
 "nbformat_minor": 5
}
