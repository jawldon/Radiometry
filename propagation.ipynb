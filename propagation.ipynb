{
 "cells": [
  {
   "cell_type": "markdown",
   "id": "451888db",
   "metadata": {},
   "source": [
    "Brief radiometry review and calculations"
   ]
  },
  {
   "cell_type": "code",
   "execution_count": 2,
   "id": "de985bba",
   "metadata": {},
   "outputs": [],
   "source": [
    "from sympy import *"
   ]
  },
  {
   "cell_type": "markdown",
   "id": "bdcaa26c",
   "metadata": {},
   "source": [
    "Solid angle $\\omega$ typically used for point sources. The solid angle has a vertex at the center of a sphere and subtends an area on the surface of the sphere. Said area on the sphere is equal to the square of the sphere's radius. If you do the math you'll end up with the following:\n",
    "\n",
    "$$d\\omega = \\frac{dA_{sphere}} {r^2} = sin\\theta \\ d\\theta d\\phi$$\n",
    "\n",
    "$$\\omega = \\int_{\\phi} \\int_{\\theta} sin\\theta \\ d\\theta d\\phi $$\n",
    "\n",
    "\n",
    "Below we see that the solid angle evaluated over a hemisphere is $2\\pi$, while the solid angle evaluated over the entire sphere is $4\\pi$ by changing $\\theta = \\pi/2$ to $\\theta = \\pi$\n"
   ]
  },
  {
   "cell_type": "code",
   "execution_count": 3,
   "id": "8ebdada1",
   "metadata": {},
   "outputs": [],
   "source": [
    "ω, θ, ϕ = symbols('ω θ ϕ')"
   ]
  },
  {
   "cell_type": "code",
   "execution_count": 4,
   "id": "2238e665",
   "metadata": {},
   "outputs": [
    {
     "data": {
      "text/latex": [
       "$\\displaystyle \\int\\limits_{0}^{2 \\pi}\\int\\limits_{0}^{\\frac{\\pi}{2}} \\sin{\\left(θ \\right)}\\, dθ\\, dϕ$"
      ],
      "text/plain": [
       "Integral(sin(θ), (θ, 0, pi/2), (ϕ, 0, 2*pi))"
      ]
     },
     "execution_count": 4,
     "metadata": {},
     "output_type": "execute_result"
    }
   ],
   "source": [
    "ω = Integral(sin(θ), (θ, 0, pi/2),(ϕ, 0, 2*pi))\n",
    "ω"
   ]
  },
  {
   "cell_type": "code",
   "execution_count": 5,
   "id": "25478043",
   "metadata": {},
   "outputs": [
    {
     "data": {
      "text/latex": [
       "$\\displaystyle 2 \\pi$"
      ],
      "text/plain": [
       "2*pi"
      ]
     },
     "execution_count": 5,
     "metadata": {},
     "output_type": "execute_result"
    }
   ],
   "source": [
    " ω.doit() "
   ]
  },
  {
   "cell_type": "markdown",
   "id": "27b5e6c6",
   "metadata": {},
   "source": [
    "For a right circular cone (practical applications) we have the following:\n",
    "\n",
    "$$\\omega = 2\\pi(1-cos\\Theta_{1/2}) $$\n",
    "$\\Theta_{1/2}$ is the cone half-angle "
   ]
  },
  {
   "cell_type": "code",
   "execution_count": 6,
   "id": "9b377fc1",
   "metadata": {},
   "outputs": [],
   "source": [
    "r, d, Θ = symbols('r d Θ')\n",
    "\n",
    "#change values as necessary. Units are in mm\n",
    "\n",
    "r = 12.5           # radius of source\n",
    "d = 1000           # distance from source to detector\n",
    "\n",
    "Θ = atan(r/d)      # half-angle in radians\n",
    "#Θ"
   ]
  },
  {
   "cell_type": "code",
   "execution_count": 7,
   "id": "1571f318",
   "metadata": {},
   "outputs": [
    {
     "data": {
      "text/latex": [
       "$\\displaystyle 0.000490816335332622$"
      ],
      "text/plain": [
       "0.000490816335332622"
      ]
     },
     "execution_count": 7,
     "metadata": {},
     "output_type": "execute_result"
    }
   ],
   "source": [
    "ω = 2*pi*(1-cos(Θ))  \n",
    "ω.n()                #need w.n() otherwise pi is not calculated numerically"
   ]
  },
  {
   "cell_type": "markdown",
   "id": "ebdd1908",
   "metadata": {},
   "source": [
    "Projected solid angle $\\Omega$ is the solid angle $\\omega$ project onto the plane of the observer. It is typically visualized by projecting $d\\omega$ onto the base or plane of the unit hemisphere and it incorporates an additional cosine term to the solid angle definition. \n",
    "\n",
    "$$d\\Omega = cos\\theta \\ d\\omega $$\n",
    "$$d\\Omega = cos\\theta sin\\theta \\ d\\theta d\\phi $$\n",
    "\n",
    "Integrating for a right circular cone we have:\n",
    "\n",
    "$$ \\Omega = \\int_{0}^{2\\pi} d\\phi \\int_{0}^{\\Theta_{1/2}} sin\\theta cos\\theta \\ d\\theta $$\n",
    "\n",
    "$$\\Omega = \\pi sin^2 \\Theta_{1/2}   $$\n",
    "\n",
    "Projected solid angle is typically used for flat emitters or receivers and instances which no point sources are used. "
   ]
  },
  {
   "cell_type": "code",
   "execution_count": 8,
   "id": "b923e9f9",
   "metadata": {},
   "outputs": [
    {
     "data": {
      "text/latex": [
       "$\\displaystyle 0.000490797165066364$"
      ],
      "text/plain": [
       "0.000490797165066364"
      ]
     },
     "execution_count": 8,
     "metadata": {},
     "output_type": "execute_result"
    }
   ],
   "source": [
    "Ω = pi*sin(Θ)**2    #units in steradians\n",
    "Ω.n()"
   ]
  },
  {
   "cell_type": "markdown",
   "id": "16d37652",
   "metadata": {},
   "source": [
    "Define Units:\n",
    "\n",
    "Radiant energy: $$Q \\quad[J]$$\n",
    "\n",
    "Radiant power:  $$\\Phi \\quad => \\frac{dQ}{dt} \\quad [W]$$\n",
    "\n",
    "Radiant intensity: $$I \\quad => \\frac{d\\Phi}{d\\omega} \\quad \\left[\\frac{W}{sr}\\right]$$\n",
    "\n",
    "Radiant exitance: $$M \\quad => \\frac{d\\Phi}{dA} \\quad \\left[\\frac{W}{m^2}\\right]$$\n",
    "\n",
    "Irradiance: $$E \\quad => \\frac{d\\Phi}{dA} \\quad \\left[\\frac{W}{m^2}\\right]$$\n",
    "\n",
    "Radiance: $$L \\quad => \\frac{d^2\\Phi}{dA d\\omega cos\\theta} \\quad \\left[\\frac{W}{m^2 sr}\\right]$$"
   ]
  },
  {
   "cell_type": "code",
   "execution_count": 9,
   "id": "f51e8b90",
   "metadata": {},
   "outputs": [],
   "source": [
    "#calculations\n",
    "E, I = symbols('E I')\n",
    "\n",
    "I = 100       #units in mW/sr"
   ]
  },
  {
   "cell_type": "markdown",
   "id": "a9f55686",
   "metadata": {},
   "source": [
    "Inverse square law of irradiance for a point source:\n",
    "$$ E = \\frac{I_{s} \\ cos(\\theta)}{d^2} $$\n",
    "\n",
    "$\\theta$ is the angle from the normal of the detector to the source-detector axis. Works for small objects and long distances. \n",
    "\n",
    "Example: $l$ is source diameter,  $l<d/10 \\ $ error for applying the law is < 1\\%.\n",
    "If $l<d/20 \\$, error is < 0.1%.\n"
   ]
  },
  {
   "cell_type": "code",
   "execution_count": 10,
   "id": "94a7cd97",
   "metadata": {},
   "outputs": [
    {
     "data": {
      "text/latex": [
       "$\\displaystyle 0.0001$"
      ],
      "text/plain": [
       "0.000100000000000000"
      ]
     },
     "execution_count": 10,
     "metadata": {},
     "output_type": "execute_result"
    }
   ],
   "source": [
    "#If detector is on-axis w.r.t. source with no angle offset, cosine goes to 1.\n",
    "E = (I*cos(0))/d**2\n",
    "E.doit()\n",
    "E.n()"
   ]
  },
  {
   "cell_type": "markdown",
   "id": "834db16b",
   "metadata": {},
   "source": [
    "If the detector from the example above is then translated a linear distance from it's original location and rotated such that the detector is normal to the source, the irradiance on the detector is:\n",
    "$$E = \\frac{I_{s}\\ cos^2(\\theta)}{d^2} $$"
   ]
  },
  {
   "cell_type": "code",
   "execution_count": 11,
   "id": "da523933",
   "metadata": {},
   "outputs": [
    {
     "data": {
      "text/latex": [
       "$\\displaystyle 7.5 \\cdot 10^{-5}$"
      ],
      "text/plain": [
       "7.50000000000000e-5"
      ]
     },
     "execution_count": 11,
     "metadata": {},
     "output_type": "execute_result"
    }
   ],
   "source": [
    "#For a detector translated a linear distance and angle between source to detector normal is 30 degrees:\n",
    "θ = 30    #degrees\n",
    "θ = θ*(pi/180)\n",
    "\n",
    "E = (I*cos(θ)**2)/d**2\n",
    "E.doit()\n",
    "E.n()"
   ]
  },
  {
   "cell_type": "markdown",
   "id": "542546c6",
   "metadata": {},
   "source": [
    "If instead the detector was translated a linear distance and the detector normal is kept parallel w.r.t. it's original location, an additional cosine term is applied:\n",
    "\n",
    "$$E = \\frac{I_{s}\\ cos^3(\\theta)}{d^2} $$"
   ]
  },
  {
   "cell_type": "code",
   "execution_count": 12,
   "id": "8bde1e8a",
   "metadata": {},
   "outputs": [
    {
     "data": {
      "text/latex": [
       "$\\displaystyle 6.49519052838329 \\cdot 10^{-5}$"
      ],
      "text/plain": [
       "6.49519052838329e-5"
      ]
     },
     "execution_count": 12,
     "metadata": {},
     "output_type": "execute_result"
    }
   ],
   "source": [
    "#For a detector translated a linear distance and angle between source to detector normal is 30 degrees:\n",
    "θ = 30    #degrees\n",
    "θ = θ*(pi/180)\n",
    "\n",
    "E = (I*cos(θ)**3)/d**2\n",
    "E.doit()\n",
    "E.n()"
   ]
  },
  {
   "cell_type": "markdown",
   "id": "561b7dca",
   "metadata": {},
   "source": [
    "For an extended, Lambertian source, the intensity $I$ can be approximated as:\n",
    "$$ I = LA_{p}$$\n",
    "\n",
    "where $A_{p}$ is the area of the source projected in the direction of the detector:\n",
    "\n",
    "$$A_{p} = A_{s}cos(\\theta)$$\n",
    "\n",
    "Replacing the point source in the $cos^3(\\theta)$ example we have the following:\n",
    "$$I = LA_{s}cos(\\theta)$$\n",
    "\n",
    "Therefore, \n",
    "$$E = \\frac{LA_{s}cos^4(\\theta)}{d^2}$$"
   ]
  },
  {
   "cell_type": "markdown",
   "id": "c5bea480",
   "metadata": {},
   "source": [
    "Ex: A 0.5m x 0.5m lamp with flat diffuser panel (lambertian source) pointed vertically down. $L = \\frac{10W}{m^2sr}$. \n",
    "The detector is located vertically below the lamp a distance 10m and translated linearly a distance of 15m. Determine the irradiance. "
   ]
  },
  {
   "cell_type": "code",
   "execution_count": 27,
   "id": "f5582226",
   "metadata": {},
   "outputs": [
    {
     "data": {
      "text/latex": [
       "$\\displaystyle 0.00236686390532544$"
      ],
      "text/plain": [
       "0.00236686390532544"
      ]
     },
     "execution_count": 27,
     "metadata": {},
     "output_type": "execute_result"
    }
   ],
   "source": [
    "L,A = symbols('L A')\n",
    "d = 10      #[m]\n",
    "θ = atan(15/10)\n",
    "L = 10\n",
    "A = 0.5 * 0.5\n",
    "E = (L*A*cos(θ)**4)/d**2\n",
    "E"
   ]
  },
  {
   "cell_type": "code",
   "execution_count": null,
   "id": "0334a1b4",
   "metadata": {},
   "outputs": [],
   "source": []
  }
 ],
 "metadata": {
  "kernelspec": {
   "display_name": "Python 3 (ipykernel)",
   "language": "python",
   "name": "python3"
  },
  "language_info": {
   "codemirror_mode": {
    "name": "ipython",
    "version": 3
   },
   "file_extension": ".py",
   "mimetype": "text/x-python",
   "name": "python",
   "nbconvert_exporter": "python",
   "pygments_lexer": "ipython3",
   "version": "3.8.11"
  }
 },
 "nbformat": 4,
 "nbformat_minor": 5
}
